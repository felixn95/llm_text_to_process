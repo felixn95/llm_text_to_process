{
 "cells": [
  {
   "cell_type": "code",
   "execution_count": 1,
   "metadata": {},
   "outputs": [
    {
     "name": "stdout",
     "output_type": "stream",
     "text": [
      " {\n",
      "\"activity-labels\": [\n",
      "\"places an order\",\n",
      "\"checks the payment\",\n",
      "\"ships the order\",\n",
      "\"rejects the order\"\n",
      "]\n",
      "}\n"
     ]
    }
   ],
   "source": [
    "import PromptsReader\n",
    "import Actiticy_Extraction\n",
    "\n",
    "process = PromptsReader.read_text_file(PromptsReader.TextFiles.PROCESS_1.value)\n",
    "\n",
    "act = Actiticy_Extraction.extract_activities(process)\n",
    "\n",
    "print(act)"
   ]
  },
  {
   "cell_type": "code",
   "execution_count": 2,
   "metadata": {},
   "outputs": [
    {
     "data": {
      "text/plain": [
       "True"
      ]
     },
     "execution_count": 2,
     "metadata": {},
     "output_type": "execute_result"
    }
   ],
   "source": [
    "Actiticy_Extraction.is_valid_response(act)"
   ]
  },
  {
   "cell_type": "code",
   "execution_count": 3,
   "metadata": {},
   "outputs": [
    {
     "name": "stdout",
     "output_type": "stream",
     "text": [
      " {\n",
      "\"Activities\": [\n",
      "{\n",
      "\"activity-label\": \"places an order\",\n",
      "\"actor-label\": \"A Customer\",\n",
      "\"actor-id\": \"C1\"\n",
      "},\n",
      "{\n",
      "\"activity-label\": \"checks the payment\",\n",
      "\"actor-label\": \"The Warehouse\",\n",
      "\"actor-id\": \"W1\"\n",
      "},\n",
      "{\n",
      "\"activity-label\": \"ships the order\",\n",
      "\"actor-label\": \"The Warehouse\",\n",
      "\"actor-id\": \"W1\"\n",
      "},\n",
      "{\n",
      "\"activity-label\": \"rejects the order\",\n",
      "\"actor-label\": \"The Warehouse\",\n",
      "\"actor-id\": \"W1\"\n",
      "}\n",
      "]\n",
      "}\n"
     ]
    }
   ],
   "source": [
    "import Actors_Extraction\n",
    "\n",
    "act_actors_labeled = Actors_Extraction.assign_actors(process, act)\n",
    "\n",
    "print(act_actors_labeled)"
   ]
  },
  {
   "cell_type": "code",
   "execution_count": 4,
   "metadata": {},
   "outputs": [
    {
     "name": "stdout",
     "output_type": "stream",
     "text": [
      "[{\"id\": \"T1\", \"label\": \"places an order\", \"actor_label\": \"A Customer\", \"actor_id\": \"C1\"}, {\"id\": \"T2\", \"label\": \"checks the payment\", \"actor_label\": \"The Warehouse\", \"actor_id\": \"W1\"}, {\"id\": \"T3\", \"label\": \"ships the order\", \"actor_label\": \"The Warehouse\", \"actor_id\": \"W1\"}, {\"id\": \"T4\", \"label\": \"rejects the order\", \"actor_label\": \"The Warehouse\", \"actor_id\": \"W1\"}]\n"
     ]
    }
   ],
   "source": [
    "import Activity\n",
    "activities_obj = Activity.Activities()\n",
    "\n",
    "activities_mapped = activities_obj.from_label_json(act_actors_labeled)\n",
    "\n",
    "print(activities_mapped.to_json())\n",
    "\n",
    "#activities_mapped = Activity.Activities.from_label_json(act_actors_labeled)\n",
    "#print(activities_mapped)"
   ]
  },
  {
   "cell_type": "code",
   "execution_count": 5,
   "metadata": {},
   "outputs": [
    {
     "name": "stdout",
     "output_type": "stream",
     "text": [
      " Sure! Here's the workflow model in JSON format based on the given instruction:\n",
      "\n",
      "{\n",
      "\"WorkflowModel\": {\n",
      "\"start-node\": {\n",
      "\"id\": \"S1\",\n",
      "\"actor_label\": \"Customer\",\n",
      "\"actor_id\": \"A1\"\n",
      "},\n",
      "\"end-node\": {\n",
      "\"id\": \"E1\",\n",
      "\"actor_label\": \"Warehouse\",\n",
      "\"actor_id\": \"A2\"\n",
      "},\n",
      "\"tasks\": [\n",
      "{\n",
      "\"id\": \"T1\",\n",
      "\"label\": \"places an order\",\n",
      "\"successor\": \"T2\",\n",
      "\"predecessor\": \"S1\",\n",
      "\"actor_label\": \"Customer\",\n",
      "\"actor_id\": \"A1\"\n",
      "},\n",
      "{\n",
      "\"id\": \"T2\",\n",
      "\"label\": \"checks payment\",\n",
      "\"successor\": \"XS1\",\n",
      "\"predecessor\": \"T1\",\n",
      "\"actor_label\": \"Warehouse\",\n",
      "\"actor_id\": \"A2\"\n",
      "},\n",
      "{\n",
      "\"id\": \"T3\",\n",
      "\"label\": \"ships order\",\n",
      "\"successor\": \"E1\",\n",
      "\"predecessor\": \"XJ1\",\n",
      "\"actor_label\": \"Warehouse\",\n",
      "\"actor_id\": \"A2\"\n",
      "},\n",
      "{\n",
      "\"id\": \"T4\",\n",
      "\"label\": \"rejects order\",\n",
      "\"successor\": \"E1\",\n",
      "\"predecessor\": \"XJ1\",\n",
      "\"actor_label\": \"Warehouse\",\n",
      "\"actor_id\": \"A2\"\n",
      "}\n",
      "],\n",
      "\"gateways\": [\n",
      "{\n",
      "\"type\": \"XOR-Split\",\n",
      "\"id\": \"XS1\",\n",
      "\"condition\": \"payment is successful?\",\n",
      "\"successor_true\": \"T3\",\n",
      "\"successor_false\": \"T4\",\n",
      "\"predecessor\": \"T2\",\n",
      "\"actor_label\": \"Warehouse\",\n",
      "\"actor_id\": \"A2\"\n",
      "},\n",
      "{\n",
      "\"type\": \"XOR-Join\",\n",
      "\"id\": \"XJ1\",\n",
      "\"predecessor_true\": \"T3\",\n",
      "\"predecessor_false\": \"T4\",\n",
      "\"successor\": \"E1\",\n",
      "\"actor_label\": \"Warehouse\",\n",
      "\"actor_id\": \"A2\"\n",
      "}\n",
      "]\n",
      "}\n",
      "}\n"
     ]
    }
   ],
   "source": [
    "import Workflow_Extraction\n",
    "import PromptsReader\n",
    "\n",
    "workflowJson = Workflow_Extraction.extract_workflow(process, activities_mapped)\n",
    "\n",
    "print (workflowJson)"
   ]
  },
  {
   "cell_type": "code",
   "execution_count": 15,
   "metadata": {},
   "outputs": [
    {
     "name": "stdout",
     "output_type": "stream",
     "text": [
      "<Workflow_Model.Node object at 0x0000018441F15BD0>\n"
     ]
    }
   ],
   "source": [
    "import Workflow_Model\n",
    "\n",
    "\n",
    "\n",
    "workflow_obj = Workflow_Model.WorkflowModel()\n",
    "\n",
    "workflow = workflow_obj.from_json(workflowJson)\n",
    "\n",
    "print(workflow.to_json())"
   ]
  }
 ],
 "metadata": {
  "kernelspec": {
   "display_name": "openllm",
   "language": "python",
   "name": "python3"
  },
  "language_info": {
   "codemirror_mode": {
    "name": "ipython",
    "version": 3
   },
   "file_extension": ".py",
   "mimetype": "text/x-python",
   "name": "python",
   "nbconvert_exporter": "python",
   "pygments_lexer": "ipython3",
   "version": "3.11.5"
  }
 },
 "nbformat": 4,
 "nbformat_minor": 2
}
