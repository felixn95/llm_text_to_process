{
 "cells": [
  {
   "cell_type": "code",
   "execution_count": 1,
   "metadata": {},
   "outputs": [
    {
     "name": "stdout",
     "output_type": "stream",
     "text": [
      "Assume the following for the definition of Workflow Models: A Workflow Model consists of the following node types: Task, XOR-Split, XOR-Join, Start-Node, End-Node. Nodes of type Start-Node have exactly one successor node and no predecessor node. Nodes of type End-Node have exactly one predecessor node and no successor node. Nodes of type Task have exactly one successor node and exactly one predecessor node. Tasks can be followed by gateways (XOR-Split or XOR-Join) or by other tasks. Nodes of type XOR-Split have one predecessor node and two successor nodes (successor_true, successor_false) and a boolean condition. Nodes of type XOR-Join have two predecessor nodes (predecessor_true, predecessor_false) and one successor node. If a process contains a XOR-Split gateway, it must also contain a XOR-Join gateway. \n",
      "### instruction: \n",
      "The MPON sends the dismissal to the MPOO. The MPOO reviews the dismissal. If the dismissal is invalid, the MPOO opposes the dismissal. Otherwise the MPOO confirmes the dismissal.\n",
      "\n",
      "{ \"Activities\": [\n",
      "{\"id\": \"T1\", \"label\": \"sends the dismissal\", \"actor_label\": \"The MPON\", \"actor_id\": \"A1\"},\n",
      "{\"id\": \"T2\", \"label\": \"reviews dismissal\", \"actor-label\": \"The MPO\", \"actor-id\": \"A2\"},\n",
      "{\"id\": \"T3\", \"label\": \"opposes the dismissal\", \"actor-label\": \"The MPO\", \"actor-id\": \"A2\"},\n",
      "{\"id\": \"T4\", \"label\": \"confirms the dismissal\", \"actor-label\": \"The MPO\", \"actor-id\": \"A2\"}\n",
      "]}\n",
      "Please provide the plain JSON output following the template and guidelines. and do not add any\n",
      "information that is not described here and do not add any explanations, only show the plain JSON. This is important.\n",
      "### response:\n",
      "{\n",
      "  \"WorkflowModel\": {\n",
      "    \"start_node\": {\n",
      "      \"id\": \"S1\",\n",
      "      \"actor_label\": \"MPON\",\n",
      "      \"actor_id\": \"A1\"\n",
      "    },\n",
      "    \"end_node\": {\n",
      "      \"id\": \"E1\",\n",
      "      \"actor_label\": \"MPOO\",\n",
      "      \"actor_id\": \"A2\"\n",
      "    },\n",
      "    \"tasks\": [\n",
      "      {\n",
      "        \"id\": \"T1\",\n",
      "        \"label\": \"sends the dismissal\",\n",
      "        \"successor\": \"T2\",\n",
      "        \"predecessor\": \"S1\",\n",
      "        \"actor_label\": \"MPON\",\n",
      "        \"actor_id\": \"A1\"\n",
      "      },\n",
      "      {\n",
      "        \"id\": \"T2\",\n",
      "        \"label\": \"reviews dismissal\",\n",
      "        \"successor\": \"XS1\",\n",
      "        \"predecessor\": \"T1\",\n",
      "        \"actor_label\": \"MPOO\",\n",
      "        \"actor_id\": \"A2\"\n",
      "      },\n",
      "      {\n",
      "        \"id\": \"T3\",\n",
      "        \"label\": \"opposes the dismissal\",\n",
      "        \"successor\": \"XJ1\",\n",
      "        \"predecessor\": \"XS1\",\n",
      "        \"actor_label\": \"MPOO\",\n",
      "        \"actor_id\": \"A2\"\n",
      "      },\n",
      "      {\n",
      "        \"id\": \"T4\",\n",
      "        \"label\": \"confirms the dismissal\",\n",
      "        \"successor\": \"XJ1\",\n",
      "        \"predecessor\": \"XS1\",\n",
      "        \"actor_label\": \"MPOO\",\n",
      "        \"actor_id\": \"A2\"\n",
      "      }\n",
      "    ],\n",
      "    \"gateways\": [\n",
      "      {\n",
      "        \"type\": \"XOR-Split\",\n",
      "        \"id\": \"XS1\",\n",
      "        \"condition\": \"dismissal is invalid?\",\n",
      "        \"successor_true\": \"T3\",\n",
      "        \"successor_false\": \"T4\",\n",
      "        \"predecessor\": \"T2\",\n",
      "        \"actor_label\": \"MPOO\",\n",
      "        \"actor_id\": \"A2\"\n",
      "      },\n",
      "      {\n",
      "        \"type\": \"XOR-Join\",\n",
      "        \"id\": \"XJ1\",\n",
      "        \"predecessor_true\": \"T3\",\n",
      "        \"predecessor_false\": \"T4\",\n",
      "        \"successor\": \"E1\",\n",
      "        \"actor_label\": \"MPOO\",\n",
      "        \"actor_id\": \"A2\"\n",
      "      }\n",
      "    ]\n",
      "  }\n",
      "}\n",
      "\n",
      "### instruction: A Customer places an order. Then the Warehouse checks the payment of the order. If the payment is successful, the warehouse ships the order. Otherwise the warehouse rejects the order. [{\"id\": \"T1\", \"label\": \"places an order\", \"actor_label\": \"A Customer\", \"actor_id\": \"C1\"}, {\"id\": \"T2\", \"label\": \"checks the payment\", \"actor_label\": \"The Warehouse\", \"actor_id\": \"W1\"}, {\"id\": \"T3\", \"label\": \"ships the order\", \"actor_label\": \"The Warehouse\", \"actor_id\": \"W1\"}, {\"id\": \"T4\", \"label\": \"rejects the order\", \"actor_label\": \"The Warehouse\", \"actor_id\": \"W1\"}] Please provide the plain JSON output following the template and guidelines. and do not add any\n",
      "information that is not described here and do not add any explanations, only show the plain JSON. This is important.\n",
      "### response:\n"
     ]
    },
    {
     "name": "stderr",
     "output_type": "stream",
     "text": [
      "2023-10-10 11:01:34 [INFO] : Took [143.41ms] to generate 'process1.png' diagram\n"
     ]
    }
   ],
   "source": [
    "import WorkflowManager\n",
    "import PromptsReader\n",
    "\n",
    "manager = WorkflowManager.WorkflowManager()\n",
    "\n",
    "### Example Process 1 \n",
    "process = PromptsReader.read_text_file(PromptsReader.TextFiles.PROCESS_1.value)\n",
    "\n",
    "### extract workflow model and activities labeled with actors\n",
    "workflow_modelJson, activities_mapped = manager.create_workflow_model(process, image_path=\"process1.png\")\n"
   ]
  },
  {
   "cell_type": "code",
   "execution_count": 6,
   "metadata": {},
   "outputs": [
    {
     "name": "stdout",
     "output_type": "stream",
     "text": [
      "<class 'dict'>\n",
      "None\n"
     ]
    }
   ],
   "source": [
    "import json\n",
    "workflowJ = json.loads(workflow_modelJson)\n",
    "\n",
    "print (print(type(workflowJ)))"
   ]
  },
  {
   "cell_type": "code",
   "execution_count": 7,
   "metadata": {},
   "outputs": [
    {
     "name": "stderr",
     "output_type": "stream",
     "text": [
      "2023-10-10 10:58:16 [INFO] : Took [180.96ms] to generate 'workflow1.png' diagram\n"
     ]
    }
   ],
   "source": [
    "### read in a local text file as dict\n",
    "import json\n",
    "import Process_Map_Creator\n",
    "with open(\"prompts\\\\workflow1.txt\", \"r\") as f:\n",
    "    data = json.load(f)\n",
    "\n",
    "Process_Map_Creator.generate_process_map(workflowJ, \"workflow1.png\")"
   ]
  },
  {
   "cell_type": "code",
   "execution_count": 3,
   "metadata": {},
   "outputs": [
    {
     "name": "stdout",
     "output_type": "stream",
     "text": [
      "[{\"id\": \"T1\", \"label\": \"places an order\", \"actor_label\": \"A Customer\", \"actor_id\": \"C1\"}, {\"id\": \"T2\", \"label\": \"checks the payment\", \"actor_label\": \"The Warehouse\", \"actor_id\": \"W1\"}, {\"id\": \"T3\", \"label\": \"ships the order\", \"actor_label\": \"The Warehouse\", \"actor_id\": \"W1\"}, {\"id\": \"T4\", \"label\": \"rejects the order\", \"actor_label\": \"The Warehouse\", \"actor_id\": \"W1\"}]\n"
     ]
    }
   ],
   "source": [
    "print (activities_mapped.to_json())"
   ]
  }
 ],
 "metadata": {
  "kernelspec": {
   "display_name": "replicate-llama",
   "language": "python",
   "name": "python3"
  },
  "language_info": {
   "codemirror_mode": {
    "name": "ipython",
    "version": 3
   },
   "file_extension": ".py",
   "mimetype": "text/x-python",
   "name": "python",
   "nbconvert_exporter": "python",
   "pygments_lexer": "ipython3",
   "version": "3.11.5"
  }
 },
 "nbformat": 4,
 "nbformat_minor": 2
}
