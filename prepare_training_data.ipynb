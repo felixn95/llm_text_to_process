{
 "cells": [
  {
   "cell_type": "code",
   "execution_count": 1,
   "metadata": {},
   "outputs": [
    {
     "name": "stdout",
     "output_type": "stream",
     "text": [
      "Index(['document name', 'process_text_raw', 'Activities', 'Actors:',\n",
      "       'prompts'],\n",
      "      dtype='object')\n"
     ]
    }
   ],
   "source": [
    "import pandas as pd\n",
    "\n",
    "# create data frame\n",
    "df = pd.read_excel(\"data/processed_data_final.xlsx\")\n",
    "\n",
    "# drop rows with missing values\n",
    "df = df.dropna()\n",
    "\n",
    "# Convert all entries to strings\n",
    "df = df.astype(str)\n",
    "\n",
    "df.replace(to_replace=[r\"\\\\t|\\\\n|\\\\r\", \"\\t|\\n|\\r\"], value=[\"\",\"\"], regex=True, inplace=True)\n",
    "\n",
    "print(df.columns)"
   ]
  },
  {
   "cell_type": "code",
   "execution_count": 2,
   "metadata": {},
   "outputs": [],
   "source": [
    "template_instruction = \"\"\"{instruction}\"\"\"\n",
    "\n",
    "df_actitivies = pd.DataFrame(columns=[\"instruction\"])\n",
    "df_actitivies[\"instruction\"] = df[\"process_text_raw\"].apply(lambda x: template_instruction.format(instruction=x))"
   ]
  },
  {
   "cell_type": "code",
   "execution_count": 3,
   "metadata": {},
   "outputs": [
    {
     "name": "stdout",
     "output_type": "stream",
     "text": [
      "                                         instruction  \\\n",
      "0  A small company manufactures customized bicycl...   \n",
      "1  A customer brings in a defective computer and ...   \n",
      "\n",
      "                                              output  \n",
      "0  ['receives an order', 'reject or accept the or...  \n",
      "1  ['brings in', 'checks', 'hands out a repair co...  \n",
      "Index(['instruction', 'output'], dtype='object')\n"
     ]
    }
   ],
   "source": [
    "df_actitivies [\"output\"] = df[\"Activities\"] \n",
    "df_actitivies.astype(str)\n",
    "print (df_actitivies.head(2))\n",
    "print(df_actitivies.columns)\n",
    "\n",
    "# export to csv\n",
    "df_actitivies.to_csv(\"data/activities.csv\", index=False)\n",
    "df_actitivies.to_excel(\"data/activities_xl.xlsx\", index=False)"
   ]
  }
 ],
 "metadata": {
  "kernelspec": {
   "display_name": "py311",
   "language": "python",
   "name": "python3"
  },
  "language_info": {
   "codemirror_mode": {
    "name": "ipython",
    "version": 3
   },
   "file_extension": ".py",
   "mimetype": "text/x-python",
   "name": "python",
   "nbconvert_exporter": "python",
   "pygments_lexer": "ipython3",
   "version": "3.11.4"
  }
 },
 "nbformat": 4,
 "nbformat_minor": 2
}
