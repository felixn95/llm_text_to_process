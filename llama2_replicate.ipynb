{
 "cells": [
  {
   "cell_type": "code",
   "execution_count": null,
   "metadata": {},
   "outputs": [],
   "source": [
    "from enum import Enum\n",
    "\n",
    "class ProcessTextEnum(Enum):\n",
    "    FIRST_PROCESS_EXAMPLE = \"The MSPN sends a dismissal to the MSPO. The MSPO reviews the dismissal. The MSPO rejects the dismissal of the MSPN or The MSPO confirms the dismissal of the MSPN.\"\n",
    "    SECOND_PROCESS_EXMAMPLE = \"The Evanstonian is an upscale independent hotel . When a guest calls room service at The Evanstonian , the room-service manager takes down the order . She then submits an order ticket to the kitchen to begin preparing the food . She also gives an order to the sommelier ( i.e . , the wine waiter ) to fetch wine from the cellar and to prepare any other alcoholic beverages . Eighty percent of room-service orders include wine or some other alcoholic beverage . Finally , she assigns the order to the waiter . While the kitchen and the sommelier are doing their tasks , the waiter readies a cart ( i.e . , puts a tablecloth on the cart and gathers silverware ) . The waiter is also responsible for nonalcoholic drinks . Once the food , wine , and cart are ready , the waiter delivers it to the guest ’ s room . After returning to the room-service station , the waiter debits the guest ’ s account. The waiter may wait to do the billing if he has another order to prepare or deliver.\"\n",
    "    THIRD_PROCESS_EXMAMPLE = \"The Sales Assistant calls each customer. If someone is interested, he sends a note to the Manager. The Manager then processes the lead.\"\n",
    "    PRE_PROMPT_ACTIVTIES = \"In the context of business process management, you are tasked with extracting process activities from a given text. A process activity is a unit of work or a specific step in a process, usually performed by an individual or a group. Please list the extracted activities as response in the format: activities = [ 'activity1', 'activity2', ... ]. Please do not add any other information. Example: Person A sends an email. Person B reads the email. If relevant, Person B forwards the mail.  Reponse: activities = ['sends an email', 'reads the email', 'forwards the mail']\""
   ]
  },
  {
   "cell_type": "code",
   "execution_count": null,
   "metadata": {},
   "outputs": [],
   "source": [
    "import activities_llama2\n",
    "activties_str = activities_llama2.extract_activities(ProcessTextEnum.PRE_PROMPT_ACTIVTIES.value, ProcessTextEnum.THIRD_PROCESS_EXMAMPLE.value)\n",
    "\n",
    "full_response = \"\"\n",
    "for item in activties_str:\n",
    "    full_response += str(item)\n",
    "    \n",
    "print(full_response)"
   ]
  },
  {
   "cell_type": "code",
   "execution_count": 5,
   "metadata": {},
   "outputs": [
    {
     "name": "stdout",
     "output_type": "stream",
     "text": [
      "The Sales Assistant calls each customer. If someone is interested, he sends a note to the Manager.The Manager then processes the lead.\n"
     ]
    }
   ],
   "source": [
    "from enum import Enum\n",
    "\n",
    "class ActorEnums (Enum):\n",
    "    pre_prompt = \"\"\"In the context of business process management, you are tasked to assign a activity to its performer.\n",
    "Process Participant:\n",
    "A process participant is any individual or entity that participates in a business process. This could include individuals who initiate the process, those who respond to it, or those who are affected by it.\n",
    "Activity:\n",
    "An activity is a unit of work that can be performed by an individual or a group. It is a specific step in the process.\n",
    "Please just answer in the format Actor:'actor'\n",
    "Process Model: The SP/PU/GO request changes to the MPO or the MPO himself causes a change.\n",
    "The MPO reviews the change request.\n",
    "The MPO rejects the change of the measuring point by the SP/PU/GO or the MPO confirmes the request of the SP/PU/GO.\n",
    "The MPO performs the measuring point change.\n",
    "The MPO reports the implementation to the SP/PU/GO or notifies the SP/PU/GO about the failure of the changes.\n",
    "\n",
    "### instruction: Who is the process participant performing 'notifies the SP/PU/GO' activity in the process model?\n",
    "### response: Actor:'the MPO'\n",
    "### instruction: Who is the process participant performing 'request changes' activity in the process model?\n",
    "### response: Actor:'the SP/PU/GO'\n",
    "\"\"\"\n",
    "\n",
    "    prompt = \"The Sales Assistant calls each customer. If someone is interested, he sends a note to the Manager.The Manager then processes the lead.\"\n",
    "\n",
    "    activity = \"calls each customer\"\n",
    "print (ActorEnums.prompt.value)"
   ]
  },
  {
   "cell_type": "code",
   "execution_count": 6,
   "metadata": {},
   "outputs": [
    {
     "name": "stdout",
     "output_type": "stream",
     "text": [
      " Actor: 'the Sales Assistant'\n"
     ]
    }
   ],
   "source": [
    "import activities_llama2\n",
    "\n",
    "actor_to_activity = activities_llama2.assign_actor(ActorEnums.pre_prompt.value, ActorEnums.prompt.value, ActorEnums.activity.value)\n",
    "\n",
    "print (actor_to_activity)"
   ]
  },
  {
   "cell_type": "code",
   "execution_count": null,
   "metadata": {},
   "outputs": [],
   "source": []
  }
 ],
 "metadata": {
  "kernelspec": {
   "display_name": "openllm",
   "language": "python",
   "name": "python3"
  },
  "language_info": {
   "codemirror_mode": {
    "name": "ipython",
    "version": 3
   },
   "file_extension": ".py",
   "mimetype": "text/x-python",
   "name": "python",
   "nbconvert_exporter": "python",
   "pygments_lexer": "ipython3",
   "version": "3.11.5"
  }
 },
 "nbformat": 4,
 "nbformat_minor": 2
}
